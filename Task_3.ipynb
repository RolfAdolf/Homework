{
 "cells": [
  {
   "cell_type": "code",
   "execution_count": 119,
   "metadata": {
    "jupyter": {
     "outputs_hidden": true
    }
   },
   "outputs": [],
   "source": [
    "import pandas as pd\n",
    "import matplotlib.pyplot as plt"
   ]
  },
  {
   "cell_type": "markdown",
   "metadata": {},
   "source": [
    "# 3. Работа с Pandas"
   ]
  },
  {
   "cell_type": "markdown",
   "metadata": {},
   "source": [
    "В файле `data/weather.csv` находит архив погоды в г. Санкт-Петербург с 1 января 2008 года по 31 декабря 2016 года. Файл состоит из двух столбцов - дата (**Day**) и средняя дневная температура в этот день (**t**). Прочитать данные в `pandas` можно с помощью кода:"
   ]
  },
  {
   "cell_type": "code",
   "execution_count": 120,
   "metadata": {},
   "outputs": [],
   "source": [
    "df = pd.read_csv('../data/weather.csv', encoding='utf-8', index_col=False, parse_dates=[0])"
   ]
  },
  {
   "cell_type": "code",
   "execution_count": 121,
   "metadata": {},
   "outputs": [
    {
     "data": {
      "text/html": [
       "<div>\n",
       "<style scoped>\n",
       "    .dataframe tbody tr th:only-of-type {\n",
       "        vertical-align: middle;\n",
       "    }\n",
       "\n",
       "    .dataframe tbody tr th {\n",
       "        vertical-align: top;\n",
       "    }\n",
       "\n",
       "    .dataframe thead th {\n",
       "        text-align: right;\n",
       "    }\n",
       "</style>\n",
       "<table border=\"1\" class=\"dataframe\">\n",
       "  <thead>\n",
       "    <tr style=\"text-align: right;\">\n",
       "      <th></th>\n",
       "      <th>Day</th>\n",
       "      <th>t</th>\n",
       "    </tr>\n",
       "  </thead>\n",
       "  <tbody>\n",
       "    <tr>\n",
       "      <th>0</th>\n",
       "      <td>2008-01-01</td>\n",
       "      <td>0</td>\n",
       "    </tr>\n",
       "    <tr>\n",
       "      <th>1</th>\n",
       "      <td>2008-01-02</td>\n",
       "      <td>-5</td>\n",
       "    </tr>\n",
       "    <tr>\n",
       "      <th>2</th>\n",
       "      <td>2008-01-03</td>\n",
       "      <td>-11</td>\n",
       "    </tr>\n",
       "    <tr>\n",
       "      <th>3</th>\n",
       "      <td>2008-01-04</td>\n",
       "      <td>-11</td>\n",
       "    </tr>\n",
       "    <tr>\n",
       "      <th>4</th>\n",
       "      <td>2008-01-05</td>\n",
       "      <td>-12</td>\n",
       "    </tr>\n",
       "  </tbody>\n",
       "</table>\n",
       "</div>"
      ],
      "text/plain": [
       "         Day   t\n",
       "0 2008-01-01   0\n",
       "1 2008-01-02  -5\n",
       "2 2008-01-03 -11\n",
       "3 2008-01-04 -11\n",
       "4 2008-01-05 -12"
      ]
     },
     "execution_count": 121,
     "metadata": {},
     "output_type": "execute_result"
    }
   ],
   "source": [
    "df.head(5)"
   ]
  },
  {
   "cell_type": "markdown",
   "metadata": {},
   "source": [
    "С помощью `Pandas` решите следующие задачи"
   ]
  },
  {
   "cell_type": "markdown",
   "metadata": {},
   "source": [
    "**3.1.** Определите самый холодный год, в котором среднеяя температура была минимальная и самый теплый год. "
   ]
  },
  {
   "cell_type": "code",
   "execution_count": 186,
   "metadata": {
    "jupyter": {
     "outputs_hidden": true
    }
   },
   "outputs": [
    {
     "name": "stdout",
     "output_type": "stream",
     "text": [
      "1. Таблица Год/Температура: \n",
      "    Year   t\n",
      "0  2008   0\n",
      "1  2008  -5\n",
      "2  2008 -11\n",
      "3  2008 -11\n",
      "4  2008 -12\n",
      "\n",
      "2. Сгруппированные по году данные: \n",
      "              t\n",
      "Year          \n",
      "2008  8.545205\n",
      "2009  7.610959\n",
      "2010  7.117808\n",
      "2011  8.337912\n",
      "2012  6.980822\n",
      "2013  8.728767\n",
      "2014  8.931507\n",
      "2015  9.079452\n",
      "2016  7.907104\n",
      "\n",
      " ****************************** Ответ ******************************\n",
      "Самый холодный год:\n",
      "              t\n",
      "Year          \n",
      "2012  6.980822\n",
      "\n",
      "Самый тёплый год:\n",
      "              t\n",
      "Year          \n",
      "2015  9.079452\n"
     ]
    }
   ],
   "source": [
    "# ваш код\n",
    "\n",
    "# Создадим таблицу Год (для каждого дня)/Температура:\n",
    "res = pd.DataFrame(data = {\"Year\": df['Day'].dt.year, \"t\": df['t']})\n",
    "print( \"1. Таблица Год/Температура: \\n\", res.head() )\n",
    "\n",
    "\n",
    "# Сгруппируем \n",
    "res = res.groupby(['Year']).mean()\n",
    "print(\"\\n2. Сгруппированные по году данные: \\n\", res)\n",
    "\n",
    "\n",
    "print('\\n', '*' * 30, 'ОТВЕТ', '*' * 30)\n",
    "\n",
    "# Самый холодный год\n",
    "res_min = res.loc[res.t == res.t.min()]\n",
    "print(\"Самый холодный год:\\n\", res_min)\n",
    "\n",
    "\n",
    "# Самый тёплый год\n",
    "res_max = res.loc[res.t == res.t.max()]\n",
    "print(\"\\nСамый тёплый год:\\n\", res_max)"
   ]
  },
  {
   "cell_type": "markdown",
   "metadata": {},
   "source": [
    "**3.2.** Определите год, где в январе было наибольшее число дней с положительной температурой ($\\text{t} \\ge 0$)."
   ]
  },
  {
   "cell_type": "code",
   "execution_count": 188,
   "metadata": {
    "jupyter": {
     "outputs_hidden": true
    }
   },
   "outputs": [
    {
     "name": "stdout",
     "output_type": "stream",
     "text": [
      "1. Таблица Год/Температура (для каждого январского дня): \n",
      "    Year   t\n",
      "0  2008   0\n",
      "1  2008  -5\n",
      "2  2008 -11\n",
      "3  2008 -11\n",
      "4  2008 -12\n",
      "\n",
      "2. Данные Год/Количество тёплых дней в январе: \n",
      "        t\n",
      "Year    \n",
      "2008  19\n",
      "2009  11\n",
      "2011   5\n",
      "2012   6\n",
      "2013   5\n",
      "2014   8\n",
      "2015  14\n",
      "2016   5\n",
      "\n",
      " ****************************** ОТВЕТ ******************************\n",
      "Год с самым большим количеством тёплых дней в январе:\n",
      "        t\n",
      "Year    \n",
      "2008  19\n"
     ]
    }
   ],
   "source": [
    "# ваш код\n",
    "# Выделяем годы и месяцы в отдельные колонки и выбираем лишь январи\n",
    "res = pd.DataFrame(data = {\"Year\": df['Day'].dt.year, \"t\": df['t'] } ).loc[ df['Day'].dt.month == 1 ]\n",
    "\n",
    "print(\"1. Таблица Год/Температура (для каждого январского дня): \\n\", res.head())\n",
    "assert len(res)/31 == 9, \"Неверное количество записей\"\n",
    "\n",
    "\n",
    "# Выделим строки с положительной температурой и сгруппируем\n",
    "res = res[res.t >= 0].groupby(['Year']).count()\n",
    "print(\"\\n2. Данные Год/Количество тёплых дней в январе: \\n\", res)\n",
    "\n",
    "\n",
    "print('\\n', '*' * 30, 'ОТВЕТ', '*' * 30)\n",
    "print(\"Год с самым большим количеством тёплых дней в январе:\\n\", res.loc[res.t == res.t.max()])\n",
    "\n"
   ]
  },
  {
   "cell_type": "markdown",
   "metadata": {},
   "source": [
    "**3.3.** В каком году было самое холодное лето (по средней температуре)"
   ]
  },
  {
   "cell_type": "code",
   "execution_count": 189,
   "metadata": {
    "jupyter": {
     "outputs_hidden": true
    }
   },
   "outputs": [
    {
     "name": "stdout",
     "output_type": "stream",
     "text": [
      "1. Таблица Год/Температура (для каждого летнего дня): \n",
      "      Year   t\n",
      "151  2008  15\n",
      "152  2008  17\n",
      "153  2008  10\n",
      "154  2008  16\n",
      "155  2008  20\n",
      "\n",
      "2. Данные Год/Средняя температура летних дней: \n",
      "               t\n",
      "Year           \n",
      "2008  18.119565\n",
      "2009  18.728261\n",
      "2010  22.119565\n",
      "2011  21.318681\n",
      "2012  19.086957\n",
      "2013  21.543478\n",
      "2014  20.706522\n",
      "2015  19.032609\n",
      "2016  19.326087\n",
      "\n",
      " ****************************** ОТВЕТ ******************************\n",
      "Год с самым холодным летом:\n",
      "               t\n",
      "Year           \n",
      "2008  18.119565\n"
     ]
    }
   ],
   "source": [
    "# ваш код\n",
    "# Выделяем годы и месяцы в отдельные колонки и выбираем лишь июнь, июль и август\n",
    "res = pd.DataFrame(data = {\"Year\": df['Day'].dt.year, \n",
    "                           \"t\": df['t'] } ).loc[ (df['Day'].dt.month >= 6) & (df['Day'].dt.month <= 8) ]\n",
    "print(\"1. Таблица Год/Температура (для каждого летнего дня): \\n\", res.head())\n",
    "\n",
    "\n",
    "# Сгруппируем\n",
    "res = res.groupby(['Year']).mean()\n",
    "print(\"\\n2. Данные Год/Средняя температура летних дней: \\n\", res)\n",
    "\n",
    "\n",
    "print('\\n', '*' * 30, 'ОТВЕТ', '*' * 30)\n",
    "print(\"Год с самым холодным летом:\\n\", res.loc[res.t == res.t.min()])"
   ]
  },
  {
   "cell_type": "markdown",
   "metadata": {},
   "source": [
    "**3.4.** Найдите день с самой большим перепадом температуры, если сравнивать со следующим днем. "
   ]
  },
  {
   "cell_type": "code",
   "execution_count": 190,
   "metadata": {
    "jupyter": {
     "outputs_hidden": true
    }
   },
   "outputs": [
    {
     "name": "stdout",
     "output_type": "stream",
     "text": [
      "\n",
      " ****************************** ОТВЕТ ******************************\n",
      "День с самым большим перепадом: \n",
      "             Day   t\n",
      "2334 2014-05-26  22\n"
     ]
    }
   ],
   "source": [
    "# ваш код\n",
    "# Найдём день, для которого разница со следующим равна максимальной (15)\n",
    "res =df[df['t'] - df['t'].shift(-1) == max(abs(df['t'] - df['t'].shift(-1))) ]\n",
    "ind = res.index[0]\n",
    "\n",
    "print('\\n', '*' * 30, 'ОТВЕТ', '*' * 30)\n",
    "print(\"День с самым большим перепадом: \\n\", res)\n",
    "\n",
    "assert abs(df.iloc[ind].t - df.iloc[ind+1].t) == max( abs( df['t'] - df['t'].shift(-1) ) ), \"Ответ неверный\""
   ]
  },
  {
   "cell_type": "markdown",
   "metadata": {},
   "source": [
    "**3.5.** Постройте график среднегодовых температур (по оси $x$ - год, по оси $y$ - средняя температура в этот год)."
   ]
  },
  {
   "cell_type": "code",
   "execution_count": 191,
   "metadata": {
    "jupyter": {
     "outputs_hidden": true
    }
   },
   "outputs": [
    {
     "name": "stdout",
     "output_type": "stream",
     "text": [
      "1. Таблица Год/Температура: \n",
      "    Year   t\n",
      "0  2008   0\n",
      "1  2008  -5\n",
      "2  2008 -11\n",
      "3  2008 -11\n",
      "4  2008 -12\n",
      "\n",
      "2. Данные Год/Средняя температура: \n",
      "              t\n",
      "Year          \n",
      "2008  8.545205\n",
      "2009  7.610959\n",
      "2010  7.117808\n",
      "2011  8.337912\n",
      "2012  6.980822\n",
      "2013  8.728767\n",
      "2014  8.931507\n",
      "2015  9.079452\n",
      "2016  7.907104\n",
      "\n",
      " ****************************** ОТВЕТ ******************************\n"
     ]
    },
    {
     "data": {
      "text/plain": [
       "<AxesSubplot:xlabel='Year'>"
      ]
     },
     "execution_count": 191,
     "metadata": {},
     "output_type": "execute_result"
    },
    {
     "data": {
      "image/png": "[encoded data removed]",
      "text/plain": [
       "<Figure size 640x480 with 1 Axes>"
      ]
     },
     "metadata": {},
     "output_type": "display_data"
    }
   ],
   "source": [
    "# ваш код\n",
    "# Таблица Год/Температура\n",
    "res = pd.DataFrame(data = {\"Year\": df['Day'].dt.year, \n",
    "                           \"t\": df['t'] } )\n",
    "print(\"1. Таблица Год/Температура: \\n\", res.head())\n",
    "\n",
    "\n",
    "# Сгруппируем\n",
    "res = res.groupby(['Year']).mean()\n",
    "print(\"\\n2. Данные Год/Средняя температура: \\n\", res)\n",
    "\n",
    "print('\\n', '*' * 30, 'ОТВЕТ', '*' * 30)\n",
    "#График\n",
    "res.plot()"
   ]
  }
 ],
 "metadata": {
  "kernelspec": {
   "display_name": "Python 3 (ipykernel)",
   "language": "python",
   "name": "python3"
  },
  "language_info": {
   "codemirror_mode": {
    "name": "ipython",
    "version": 3
   },
   "file_extension": ".py",
   "mimetype": "text/x-python",
   "name": "python",
   "nbconvert_exporter": "python",
   "pygments_lexer": "ipython3",
   "version": "3.9.13"
  },
  "vscode": {
   "interpreter": {
    "hash": "916dbcbb3f70747c44a77c7bcd40155683ae19c65e1c03b4aa3499c5328201f1"
   }
  }
 },
 "nbformat": 4,
 "nbformat_minor": 4
}
