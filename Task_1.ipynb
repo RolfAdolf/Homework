{
 "cells": [
  {
   "cell_type": "markdown",
   "metadata": {},
   "source": [
    "## Девришев Надир Эльнурович, группа 19Б07-ПУ."
   ]
  },
  {
   "cell_type": "markdown",
   "metadata": {},
   "source": [
    "# Задание 1.1\n",
    "\n",
    "[Свертка списка](https://ru.wikipedia.org/wiki/%D0%A1%D0%B2%D1%91%D1%80%D1%82%D0%BA%D0%B0_%D1%81%D0%BF%D0%B8%D1%81%D0%BA%D0%B0) -  это обобщенная операция над списком, c помощью которой можно преобразовать список в единое значение. Например, рассмотрим реализации свертки слева и свертки справа (левоассоциативную свертку и правоассоциативную свертку):"
   ]
  },
  {
   "cell_type": "code",
   "execution_count": 160,
   "metadata": {
    "jupyter": {
     "outputs_hidden": true
    }
   },
   "outputs": [],
   "source": [
    "def foldl(f, x0, lst):\n",
    "    if not lst:\n",
    "        return x0\n",
    "    return foldl(f, f(x0, lst[0]), lst[1:])\n",
    "\n",
    "def foldr(f, x0, lst):\n",
    "    if not lst:\n",
    "        return x0\n",
    "    return f(lst[0], foldr(f, x0, lst[1:]))"
   ]
  },
  {
   "cell_type": "code",
   "execution_count": 161,
   "metadata": {},
   "outputs": [
    {
     "data": {
      "text/plain": [
       "6"
      ]
     },
     "execution_count": 161,
     "metadata": {},
     "output_type": "execute_result"
    }
   ],
   "source": [
    "#сумма\n",
    "foldl(lambda x, y: x + y, 0, [1, 2, 3])"
   ]
  },
  {
   "cell_type": "code",
   "execution_count": 162,
   "metadata": {},
   "outputs": [
    {
     "data": {
      "text/plain": [
       "'123'"
      ]
     },
     "execution_count": 162,
     "metadata": {},
     "output_type": "execute_result"
    }
   ],
   "source": [
    "#конкатенация\n",
    "foldl(lambda x, y: '{}{}'.format(x, y), '', [1, 2, 3])"
   ]
  },
  {
   "cell_type": "code",
   "execution_count": 163,
   "metadata": {},
   "outputs": [
    {
     "data": {
      "text/plain": [
       "(0.16666666666666666, 1.5)"
      ]
     },
     "execution_count": 163,
     "metadata": {},
     "output_type": "execute_result"
    }
   ],
   "source": [
    "f = lambda x, y: x / y\n",
    "foldl(f, 1, [1, 2, 3]), \\\n",
    "foldr(f, 1, [1, 2, 3])"
   ]
  },
  {
   "cell_type": "markdown",
   "metadata": {},
   "source": [
    "Задача: реализовать foldl через foldr и наоборот. Вместо многоточий нужно вставить выражения, которые бы привели к нужному результату. Модифицировать сам список нельзя. "
   ]
  },
  {
   "cell_type": "markdown",
   "metadata": {},
   "source": [
    "### Решение (неверное)"
   ]
  },
  {
   "cell_type": "code",
   "execution_count": 164,
   "metadata": {
    "jupyter": {
     "outputs_hidden": true
    }
   },
   "outputs": [],
   "source": [
    "def foldl2(f, x0, lst):\n",
    "    return foldr(lambda x, y: f(y, x), x0, list(reversed(lst)))"
   ]
  },
  {
   "cell_type": "code",
   "execution_count": 165,
   "metadata": {
    "jupyter": {
     "outputs_hidden": true
    }
   },
   "outputs": [],
   "source": [
    "def foldr2(f, x0, lst):\n",
    "    return foldl(lambda x, y: f(y, x), x0, list(reversed(lst)))"
   ]
  },
  {
   "cell_type": "markdown",
   "metadata": {},
   "source": [
    "### Примеры"
   ]
  },
  {
   "cell_type": "code",
   "execution_count": 166,
   "metadata": {},
   "outputs": [
    {
     "name": "stdout",
     "output_type": "stream",
     "text": [
      "6\n",
      "6\n",
      "6\n",
      "6\n"
     ]
    }
   ],
   "source": [
    "#сумма\n",
    "print(foldl(lambda x, y: x + y, 0, [1, 2, 3]))\n",
    "\n",
    "print(foldl2(lambda x, y: x + y, 0, [1, 2, 3]))\n",
    "\n",
    "print(foldr(lambda x, y: x + y, 0, [1, 2, 3]))\n",
    "\n",
    "print(foldr2(lambda x, y: x + y, 0, [1, 2, 3]))"
   ]
  },
  {
   "cell_type": "code",
   "execution_count": 167,
   "metadata": {},
   "outputs": [
    {
     "name": "stdout",
     "output_type": "stream",
     "text": [
      "123\n",
      "123\n",
      "123\n",
      "123\n"
     ]
    }
   ],
   "source": [
    "#конкатенация\n",
    "\n",
    "print(foldl(lambda x, y: '{}{}'.format(x, y), '', [1, 2, 3]))\n",
    "print(foldl2(lambda x, y: '{}{}'.format(x, y), '', [1, 2, 3]))\n",
    "print(foldr(lambda x, y: '{}{}'.format(x, y), '', [1, 2, 3]))\n",
    "print(foldr2(lambda x, y: '{}{}'.format(x, y), '', [1, 2, 3]))"
   ]
  },
  {
   "cell_type": "code",
   "execution_count": 168,
   "metadata": {},
   "outputs": [
    {
     "name": "stdout",
     "output_type": "stream",
     "text": [
      "0.16666666666666666\n",
      "0.16666666666666666\n",
      "1.5\n",
      "1.5\n"
     ]
    }
   ],
   "source": [
    "f = lambda x, y: x / y\n",
    "print(foldl(f, 1, [1, 2, 3]))\n",
    "print(foldl2(f, 1, [1, 2, 3]))\n",
    "print(foldr(f, 1, [1, 2, 3]))\n",
    "print(foldr2(f, 1, [1, 2, 3]))"
   ]
  },
  {
   "cell_type": "markdown",
   "metadata": {},
   "source": [
    "# Задание 1.2\n",
    "\n",
    "нужно написать функцию, которая принимает две строки и проверяет, входит ли хотя бы одна перестановка второй строки в первую. Например:\n",
    "\n",
    "> a = 'abcrotm'\n",
    "> \n",
    "> b = 'tro'\n",
    "\n",
    "функция def check_inv(a, b) вернет True, так как 'rot' содержится в 'abcrotm'. Нужно подумать как можно более оптимальный алгоритм и оценить его сложность. "
   ]
  },
  {
   "cell_type": "markdown",
   "metadata": {},
   "source": [
    "### Решение"
   ]
  },
  {
   "cell_type": "markdown",
   "metadata": {},
   "source": [
    "#### Идея:\n",
    "Проходим окном того же размера, что и строка b, по слову a и ищем совпадение количеств каждой из букв в окне и в строке b. Для окна и для слова b заводим два списка по 52 элемента (26 элементов a-z и 26 элементов A-Z). Было принято решение использовать списки размера 52, содержращие количества букв в строке b и в окне, чтобы обеспечить константное время сравнения."
   ]
  },
  {
   "cell_type": "markdown",
   "metadata": {},
   "source": [
    "#### Сложность:\n",
    "Пусть N - длина слова a, а M - длина слова b. Тогда сначала происходит инициализация списка s_b сложностью M (т.к. мы пробегаемся по каждой букве слова b). После чего инициализация второго списка s_a сложностью тоже M (т.к. длина окна тоже равна M). Наконец, мы проходим окном (N-M) раз, выполняя на каждой итерации по операции инкремента и декремента. Итого: M + M + 2*(N-M) = N. \n",
    "Сложность - N."
   ]
  },
  {
   "cell_type": "markdown",
   "metadata": {},
   "source": [
    "##### Функция, возращаюая каждому символу [a-zA-Z] его индекс в списке"
   ]
  },
  {
   "cell_type": "code",
   "execution_count": 50,
   "metadata": {},
   "outputs": [],
   "source": [
    "def ind(s: str):\n",
    "    i = ord(s)\n",
    "    return (i-97)%26 if (i > 90) else (i - 65) % 26 + 26"
   ]
  },
  {
   "cell_type": "code",
   "execution_count": 73,
   "metadata": {},
   "outputs": [
    {
     "name": "stdout",
     "output_type": "stream",
     "text": [
      "0\n",
      "25\n",
      "26\n",
      "51\n"
     ]
    }
   ],
   "source": [
    "print(ind('a'))\n",
    "print(ind('z'))\n",
    "print(ind('A'))\n",
    "print(ind('Z'))"
   ]
  },
  {
   "cell_type": "code",
   "execution_count": 84,
   "metadata": {
    "jupyter": {
     "outputs_hidden": true
    }
   },
   "outputs": [],
   "source": [
    "def check_inv(a, b):\n",
    "    \n",
    "    ###Инициализация списка, содержащего количества букв в рассматриваемых словах\n",
    "    s_a = [0]*52\n",
    "    s_b = [0]*52\n",
    "    \n",
    "    ###Считаем количество различных букв в слове b и заносим его в список s_b\n",
    "    for i in b:\n",
    "        s_b[ind(i)] += 1\n",
    "    \n",
    "    ###Считаем количество различных букв в первом окне длины len(b) и заносим его в список s_a\n",
    "    for i in a[:len(b)]:\n",
    "        s_a[ind(i)] += 1\n",
    "    \n",
    "    ###Проходим окном по слову a\n",
    "    for i in range(1, len(a)-len(b)+1):\n",
    "#         print(i)\n",
    "#         print(s_a)\n",
    "#         print(s_b)\n",
    "        if (s_a == s_b):\n",
    "            return True\n",
    "        else:\n",
    "            s_a[ ind(a[i-1]) ] -= 1\n",
    "            s_a[ ind(a[(i-1)+len(b)]) ] += 1\n",
    "    if (s_a == s_b):\n",
    "            return True\n",
    "    else:\n",
    "        return False"
   ]
  },
  {
   "cell_type": "markdown",
   "metadata": {},
   "source": [
    "### Примеры"
   ]
  },
  {
   "cell_type": "code",
   "execution_count": 87,
   "metadata": {},
   "outputs": [
    {
     "name": "stdout",
     "output_type": "stream",
     "text": [
      "True\n"
     ]
    }
   ],
   "source": [
    "a = 'abcrotadkgna'\n",
    "b = 'tro'\n",
    "\n",
    "print( check_inv(a, b) )"
   ]
  },
  {
   "cell_type": "code",
   "execution_count": 90,
   "metadata": {},
   "outputs": [
    {
     "name": "stdout",
     "output_type": "stream",
     "text": [
      "True\n"
     ]
    }
   ],
   "source": [
    "a = 'pineapple'\n",
    "b = 'apple'\n",
    "\n",
    "print( check_inv(a, b) )"
   ]
  },
  {
   "cell_type": "code",
   "execution_count": 93,
   "metadata": {},
   "outputs": [
    {
     "name": "stdout",
     "output_type": "stream",
     "text": [
      "True\n"
     ]
    }
   ],
   "source": [
    "a = 'IncomPRehensibility'\n",
    "b = 'PeRm'\n",
    "\n",
    "print( check_inv(a, b) )"
   ]
  },
  {
   "cell_type": "markdown",
   "metadata": {},
   "source": [
    "# Задание 1.3\n",
    "\n",
    "Реализовать бинарное дерево (класс Tree), в нём методы __repr__, __str__, __iter__ (итерация только по листьям)."
   ]
  },
  {
   "cell_type": "markdown",
   "metadata": {},
   "source": [
    "### Решение"
   ]
  },
  {
   "cell_type": "code",
   "execution_count": 155,
   "metadata": {},
   "outputs": [],
   "source": [
    "class Tree:\n",
    "    def __init__(self, value=None, left=None, right=None):\n",
    "        self.left = left\n",
    "        self.right = right\n",
    "        self.value = value\n",
    "        \n",
    "    def __iter__(self):\n",
    "        \n",
    "        ### Если нет потомков:\n",
    "        if (self.left is None) and (self.right is None):\n",
    "            return iter([self.value])\n",
    "        \n",
    "        ### Если есть оба потомка:\n",
    "        elif not ( (self.left is None) or (self.right is None) ):\n",
    "            return iter(list(self.left.__iter__()) + list(self.right.__iter__()))\n",
    "        \n",
    "        ### Если есть лишь левый:\n",
    "        elif not (self.left is None):\n",
    "            return self.left.__iter__()\n",
    "        \n",
    "        elif not (self.right is None):\n",
    "            return self.right.__iter__()\n",
    "            \n",
    "            \n",
    "            \n",
    "    def __str__(self):\n",
    "        ### Если нет потомков:\n",
    "        if (self.left is None) and (self.right is None):\n",
    "            return \"leaf({0})\".format(self.value)\n",
    "        \n",
    "        ### Если есть оба потомка:\n",
    "        elif not ( (self.left is None) or (self.right is None) ):\n",
    "            return \"[Tree({0}) with left child \".format(self.value) + self.left.__str__() + \" and right child \" + self.right.__str__() + \"]\"\n",
    "        \n",
    "        ### Если есть лишь левый:\n",
    "        elif not (self.left is None):\n",
    "            return \"[Tree({0}) with left child \".format(self.value) + self.left.__str__() + \"]\"\n",
    "        \n",
    "        ### Если есть лишь левый:\n",
    "        elif not (self.right is None):\n",
    "            return \"[Tree({0}) with left child \".format(self.value) + self.right.__str__() + \"]\"\n",
    "        \n",
    "    def __repr__(self):\n",
    "        print(self)"
   ]
  },
  {
   "cell_type": "markdown",
   "metadata": {},
   "source": [
    "### Примеры"
   ]
  },
  {
   "cell_type": "code",
   "execution_count": 169,
   "metadata": {},
   "outputs": [
    {
     "name": "stdout",
     "output_type": "stream",
     "text": [
      "5\n",
      "6\n",
      "4\n",
      "2\n",
      "[5, 6, 4, 2]\n"
     ]
    },
    {
     "data": {
      "text/plain": [
       "False"
      ]
     },
     "execution_count": 169,
     "metadata": {},
     "output_type": "execute_result"
    }
   ],
   "source": [
    "tree = Tree(0, Tree(1, Tree(3, Tree(5), Tree(6)), Tree(4) ),                             \n",
    "                  Tree(2) )\n",
    "\n",
    "for leaf in tree:\n",
    "    print(leaf)\n",
    "    \n",
    "print(list(tree))\n",
    "\n",
    "list(tree) == [3, 4, 2]"
   ]
  },
  {
   "cell_type": "code",
   "execution_count": 173,
   "metadata": {},
   "outputs": [
    {
     "data": {
      "text/plain": [
       "'[Tree(0) with left child [Tree(1) with left child [Tree(3) with left child leaf(5) and right child leaf(6)] and right child leaf(4)] and right child leaf(2)]'"
      ]
     },
     "execution_count": 173,
     "metadata": {},
     "output_type": "execute_result"
    }
   ],
   "source": [
    "tree.__str__()"
   ]
  },
  {
   "cell_type": "code",
   "execution_count": 174,
   "metadata": {},
   "outputs": [
    {
     "name": "stdout",
     "output_type": "stream",
     "text": [
      "[Tree(0) with left child [Tree(1) with left child [Tree(3) with left child leaf(5) and right child leaf(6)] and right child leaf(4)] and right child leaf(2)]\n"
     ]
    }
   ],
   "source": [
    "tree.__repr__()"
   ]
  },
  {
   "cell_type": "markdown",
   "metadata": {},
   "source": [
    "# Задание 1.4\n",
    "\n",
    "Реализовать простейший калькулятор математических выражений:\n",
    "- только целые числа\n",
    "- **+**, **\\-**, **\\***, **\\**\n",
    "- скобки\n",
    "\n",
    "**Можно использовать регулярные выражения**"
   ]
  },
  {
   "cell_type": "markdown",
   "metadata": {},
   "source": [
    "### Решение"
   ]
  },
  {
   "cell_type": "code",
   "execution_count": 210,
   "metadata": {},
   "outputs": [],
   "source": [
    "def calc(expr):\n",
    "    \n",
    "    ### Делим выражение на токены из чисел, операций и скобок \n",
    "    expr = expr.replace('(', '( ')\n",
    "    expr = expr.replace(')', ' )')\n",
    "    expr = expr.split()\n",
    "    \n",
    "    ### Вычисляем выражения внутри скобок\n",
    "    ### Если в выражении есть скобки,тоищем\n",
    "    ### индексы наиболее внутренних скобок и \n",
    "    ### возвращаем значение выражения внутри них.\n",
    "    if ('(' in expr) and (')' in expr):\n",
    "        ###Первая скобка )\n",
    "        right_index = expr.index(')')\n",
    "        \n",
    "        ###Последняя скобка (\n",
    "        left_index  =  right_index - 1 - list( reversed(expr[:right_index]) ).index('(' )\n",
    "        return calc( ' '.join(expr[0:max(0, left_index)] + [calc( ' '.join( expr[left_index+1:right_index] ) )] + expr[min(len(expr), right_index+1):len(expr)]) )\n",
    "        \n",
    "    \n",
    "    ### Сколько чисел:\n",
    "    n = len([i for i in expr if (i.replace('-', '')).isdigit()]) \n",
    "    \n",
    "    \n",
    "    #####Случай простого выражения без скобок из двух чисел и одной операции:\n",
    "    ### Если в выражении одно число\n",
    "    if (n == 1):\n",
    "        return int(expr[0])\n",
    "        \n",
    "    ###  Иначе\n",
    "    elif n == 2:\n",
    "        if (expr[1] == '*'):\n",
    "            return str( int(expr[0])*int(expr[2]) )\n",
    "        elif (expr[1] == '/'):\n",
    "            return str( int(int(expr[0])/int(expr[2])) )\n",
    "        elif (expr[1] == '+'):\n",
    "            return str( int(expr[0])+int(expr[2]) )\n",
    "        elif (expr[1] == '-'):\n",
    "            return str( int(expr[0])-int(expr[2]) )\n",
    "        \n",
    "        \n",
    "        \n",
    "        \n",
    "    #####Сложный случай:\n",
    "    ### Совершаем операции в арифметическом порядке (/ или *, + или -):\n",
    "    else:\n",
    "        \n",
    "        \n",
    "        if ( ('/' in expr) or ('*' in expr) ):\n",
    "            \n",
    "            ### Находим индекс знака операции\n",
    "            indx = min( expr.index('/') if ('/' in expr) else len(expr),\n",
    "                        expr.index('*') if ('*' in expr) else len(expr) )\n",
    "            \n",
    "            ### Рекурсивно делим набор сложных действий простыми.\n",
    "            return calc( ' '.join(expr[0:max(0, indx-1)] + [calc( ' '.join( expr[indx-1:indx+2] ) )] + expr[min(len(expr), indx+2):len(expr)]) )\n",
    "        \n",
    "        \n",
    "        else:\n",
    "            ### Находим индекс знака операции\n",
    "            indx = min( expr.index('-') if ('-' in expr) else len(expr),\n",
    "                        expr.index('+') if ('+' in expr) else len(expr) )\n",
    "            \n",
    "            return calc( ' '.join(expr[0:max(0, indx-1)] + [calc( ' '.join( expr[indx-1:indx+2] ) )] + expr[min(len(expr), indx+2):len(expr)]) )   "
   ]
  },
  {
   "cell_type": "markdown",
   "metadata": {},
   "source": [
    "### Примеры"
   ]
  },
  {
   "cell_type": "code",
   "execution_count": 215,
   "metadata": {},
   "outputs": [
    {
     "name": "stdout",
     "output_type": "stream",
     "text": [
      "118\n",
      "118\n"
     ]
    }
   ],
   "source": [
    "print( int(2 * 2 + 198 / 3 + 4 * 12) )\n",
    "print( calc('2 * 2 + 198 / 3 + 4 * 12') )"
   ]
  },
  {
   "cell_type": "code",
   "execution_count": 216,
   "metadata": {},
   "outputs": [
    {
     "name": "stdout",
     "output_type": "stream",
     "text": [
      "21\n",
      "21\n"
     ]
    }
   ],
   "source": [
    "print( int((168 + 7) / 5 + (12 / 4) * 5 - 58 / (5 - 3)) )\n",
    "print( calc('(168 + 7) / 5 + (12 / 4) * 5 - 58 / (5 - 3)') )"
   ]
  },
  {
   "cell_type": "code",
   "execution_count": 217,
   "metadata": {},
   "outputs": [
    {
     "name": "stdout",
     "output_type": "stream",
     "text": [
      "23\n",
      "23\n"
     ]
    }
   ],
   "source": [
    "print( int(5 + 2 * (14 - 4 * (7 - 5)) + 36 / (12 - 2 * 3)) )\n",
    "print( calc('5 + 2 * (14 - 4 * (7 - 5)) + 36 / (12 - 2 * 3)') )"
   ]
  }
 ],
 "metadata": {
  "kernelspec": {
   "display_name": "Python 3",
   "language": "python",
   "name": "python3"
  },
  "language_info": {
   "codemirror_mode": {
    "name": "ipython",
    "version": 3
   },
   "file_extension": ".py",
   "mimetype": "text/x-python",
   "name": "python",
   "nbconvert_exporter": "python",
   "pygments_lexer": "ipython3",
   "version": "3.8.3"
  },
  "vscode": {
   "interpreter": {
    "hash": "916dbcbb3f70747c44a77c7bcd40155683ae19c65e1c03b4aa3499c5328201f1"
   }
  }
 },
 "nbformat": 4,
 "nbformat_minor": 4
}
