{
 "cells": [
  {
   "cell_type": "code",
   "execution_count": 46,
   "metadata": {},
   "outputs": [],
   "source": [
    "import numpy as np\n",
    "import scipy as sp\n",
    "import matplotlib.pyplot as plt\n",
    "import seaborn as sns\n",
    "\n",
    "%matplotlib inline"
   ]
  },
  {
   "cell_type": "markdown",
   "metadata": {},
   "source": [
    "# 2. Работа с массивами NumPy"
   ]
  },
  {
   "cell_type": "markdown",
   "metadata": {},
   "source": [
    "**N. Все упражнения ниже нужно делать без использования циклов Python**\n",
    "\n",
    "**2.1.** Cоздать вектор\n",
    "\n",
    "$$(2, \\frac{2^2}{2}, \\ldots, \\frac{2^{20}}{20})$$\n",
    "\n",
    "Можно использовать функции [np.arange()](http://docs.scipy.org/doc/numpy/reference/generated/numpy.arange.html), [np.ones()](http://docs.scipy.org/doc/numpy/reference/generated/numpy.ones.html)"
   ]
  },
  {
   "cell_type": "code",
   "execution_count": 47,
   "metadata": {},
   "outputs": [
    {
     "name": "stdout",
     "output_type": "stream",
     "text": [
      "[2.00000000e+00 2.00000000e+00 2.66666667e+00 4.00000000e+00\n",
      " 6.40000000e+00 1.06666667e+01 1.82857143e+01 3.20000000e+01\n",
      " 5.68888889e+01 1.02400000e+02 1.86181818e+02 3.41333333e+02\n",
      " 6.30153846e+02 1.17028571e+03 2.18453333e+03 4.09600000e+03\n",
      " 7.71011765e+03 1.45635556e+04 2.75941053e+04 5.24288000e+04]\n"
     ]
    }
   ],
   "source": [
    "## your code\n",
    "\n",
    "# Вектор-строка двоек\n",
    "twos = 2*np.ones(20)\n",
    "\n",
    "# Вектор-строка [1, 2, ..., 20]\n",
    "rang_e = np.arange(1, 21)\n",
    "\n",
    "\n",
    "#Поэлементные операции\n",
    "result = ( twos ) ** rang_e / rang_e\n",
    "\n",
    "print(result)"
   ]
  },
  {
   "cell_type": "markdown",
   "metadata": {},
   "source": [
    "**2.2.** Посчитать:\n",
    "\n",
    "$$\\sum\\limits_{i=0}^{5}{0.1^{3i}0.2^{4i}}$$\n"
   ]
  },
  {
   "cell_type": "code",
   "execution_count": 48,
   "metadata": {},
   "outputs": [
    {
     "name": "stdout",
     "output_type": "stream",
     "text": [
      "1.00000160000256\n"
     ]
    }
   ],
   "source": [
    "## your code\n",
    "\n",
    "# Вектор-строка [0.1]*5\n",
    "ones = 0.1*np.ones(6)\n",
    "\n",
    "# Вектор-строка [0.2]*5\n",
    "twos = 0.2*np.ones(6)\n",
    "\n",
    "# Индекс\n",
    "rang_e = np.arange(0, 6, 1)\n",
    "\n",
    "# Вектор первых сомножителей\n",
    "res_ones = ones ** (rang_e * 3)\n",
    "\n",
    "# Вектор вторых сомножителей\n",
    "res_twos = twos ** (rang_e * 4)\n",
    "\n",
    "# Скалярное произведение\n",
    "result = res_ones @ res_twos\n",
    "\n",
    "print(result)"
   ]
  },
  {
   "cell_type": "markdown",
   "metadata": {},
   "source": [
    "**2.3.** Создать нулевую матрицe $8 \\times 8$, и заполнить её единицами в шахматном порядке."
   ]
  },
  {
   "cell_type": "code",
   "execution_count": 49,
   "metadata": {},
   "outputs": [
    {
     "name": "stdout",
     "output_type": "stream",
     "text": [
      "[[1. 0. 1. 0. 1. 0. 1. 0.]\n",
      " [0. 1. 0. 1. 0. 1. 0. 1.]\n",
      " [1. 0. 1. 0. 1. 0. 1. 0.]\n",
      " [0. 1. 0. 1. 0. 1. 0. 1.]\n",
      " [1. 0. 1. 0. 1. 0. 1. 0.]\n",
      " [0. 1. 0. 1. 0. 1. 0. 1.]\n",
      " [1. 0. 1. 0. 1. 0. 1. 0.]\n",
      " [0. 1. 0. 1. 0. 1. 0. 1.]]\n"
     ]
    }
   ],
   "source": [
    "## your code\n",
    "\n",
    "# Нулевая матрица\n",
    "zeros = np.zeros((8, 8))\n",
    "\n",
    "# Матрица с суммой индексов по строкам и столбцам\n",
    "rang_e = np.arange(1, 9) + ( np.arange(1, 9) ).reshape(8, 1)\n",
    "\n",
    "# Логическая маска\n",
    "MASk = rang_e % 2 == 0\n",
    "\n",
    "zeros[MASk] = 1\n",
    "\n",
    "print(zeros)"
   ]
  },
  {
   "cell_type": "markdown",
   "metadata": {},
   "source": [
    "**2.4.** Есть 5 точек в декартовой системе координат (в виде матрицы $X$ размерностью $5 \\times 2$), сконвертируйте эти точки в полярную систему координат."
   ]
  },
  {
   "cell_type": "code",
   "execution_count": 50,
   "metadata": {},
   "outputs": [
    {
     "name": "stdout",
     "output_type": "stream",
     "text": [
      "[0.78337991 1.34756247 0.68828367 0.66802118 1.13621228] [0.30835855 0.75647673 0.79625319 0.33672243 0.77585872]\n"
     ]
    }
   ],
   "source": [
    "X = np.random.random((5, 2))\n",
    "\n",
    "## your code\n",
    "\n",
    "# Абсциссы \n",
    "x = X[:, 0]\n",
    "\n",
    "# Ординаты \n",
    "y = X[:, 1]\n",
    "\n",
    "# Модули\n",
    "r = np.sqrt(x**2 + y**2)\n",
    "\n",
    "# Углы\n",
    "alpha = np.arctan(y / x) \n",
    "\n",
    "print(r, alpha)"
   ]
  },
  {
   "cell_type": "markdown",
   "metadata": {},
   "source": [
    "**2.5.** Найдите индексы максимального элемента в случайной матрице $10 \\times 10$.\n",
    "\n",
    "Cм. [np.argmax()](http://docs.scipy.org/doc/numpy/reference/generated/numpy.argmax.html)."
   ]
  },
  {
   "cell_type": "code",
   "execution_count": 51,
   "metadata": {},
   "outputs": [
    {
     "name": "stdout",
     "output_type": "stream",
     "text": [
      "(8, 0)\n",
      "0.9970368227321023\n"
     ]
    }
   ],
   "source": [
    "X = np.random.random((10, 10))\n",
    "\n",
    "## your code\n",
    "res = np.argmax(X) // (X.shape)[0], np.argmax(X) % (X.shape)[0]\n",
    "\n",
    "print(res)\n",
    "\n",
    "print(X[res])"
   ]
  },
  {
   "cell_type": "markdown",
   "metadata": {},
   "source": [
    "**2.6.** Есть 10 точек ($X$) и ещё одна ($y$). Найти в $X$ ближайшую к $y$ точку."
   ]
  },
  {
   "cell_type": "code",
   "execution_count": 52,
   "metadata": {},
   "outputs": [
    {
     "name": "stdout",
     "output_type": "stream",
     "text": [
      "[[0.8339594  0.84056353]]\n",
      "[0.99378332 0.69566517]\n"
     ]
    }
   ],
   "source": [
    "X = np.random.random((10, 2))\n",
    "\n",
    "y = np.random.random((1, 2))\n",
    "\n",
    "## your code\n",
    "\n",
    "# Первая координата\n",
    "x_1 = X[:, 0]\n",
    "\n",
    "# Вторая координата\n",
    "x_2 = X[:, 1]\n",
    "\n",
    "# Индекс наименьшего евклидова расстояния\n",
    "index = np.argmin( (x_1 - y[0, 0])**2 + (x_2 - y[0, 1])**2 )\n",
    "\n",
    "res = X[index]\n",
    "\n",
    "print(y)\n",
    "print(res)"
   ]
  },
  {
   "cell_type": "markdown",
   "metadata": {},
   "source": [
    "**2.7.** Дана функция:\n",
    "\n",
    "$$\n",
    " \\begin{cases}\n",
    "    x^2 + 2x + 6, & x < 0  \\\\\n",
    "    x + 6, & 0 \\le x \\le 2 \\\\\n",
    "    x^2 + 4x - 4, & x \\ge 2\n",
    " \\end{cases}\n",
    "$$\n",
    "\n",
    "Постройте массив из её значений на  $-3 \\le x \\le 3$."
   ]
  },
  {
   "cell_type": "code",
   "execution_count": 53,
   "metadata": {},
   "outputs": [
    {
     "name": "stdout",
     "output_type": "stream",
     "text": [
      "[ 9.      8.5344  8.0976  7.6896  7.3104  6.96    6.6384  6.3456  6.0816\n",
      "  5.8464  5.64    5.4624  5.3136  5.1936  5.1024  5.04    5.0064  5.0016\n",
      "  5.0256  5.0784  5.16    5.2704  5.4096  5.5776  5.7744  6.      6.12\n",
      "  6.24    6.36    6.48    6.6     6.72    6.84    6.96    7.08    7.2\n",
      "  7.32    7.44    7.56    7.68    7.8     7.92    8.3216  9.3056 10.3184\n",
      " 11.36   12.4304 13.5296 14.6576 15.8144 17.    ]\n"
     ]
    }
   ],
   "source": [
    "## your code\n",
    "\n",
    "# Число точек разбиения\n",
    "x = np.linspace(-3, 3, 51)\n",
    "\n",
    "# Первый отрезок (x<0)\n",
    "x_1 = x[x<0]\n",
    "\n",
    "# Второй отрезок (x>=0 and x <=2)\n",
    "x_2 = (x[x>=0])[ (x[x>=0])<=2 ]\n",
    "\n",
    "# Третий отрезок (x > 2)\n",
    "x_3 = x[x>2]\n",
    "\n",
    "# Значения на первом отрезке\n",
    "res_1 = x_1**2 + 2*x_1 + 6\n",
    "\n",
    "# Значения на втором отрезке\n",
    "res_2 = x_2 + 6\n",
    "\n",
    "# Значения на третьем отрезке\n",
    "res_3 = x_3**2 + 4*x_3 - 4\n",
    "\n",
    "# Конкатенация\n",
    "res = np.hstack((res_1, res_2))\n",
    "res = np.hstack((res, res_3))\n",
    "\n",
    "print(res)"
   ]
  },
  {
   "cell_type": "markdown",
   "metadata": {},
   "source": [
    "**2.8.** Из каждого элемента матрицы вычесть среднее арифметическое от всех элементов в соответствующей строке (после чего среднее значение каждой строки должно равняться нулю).\n",
    "\n",
    "Cм. [np.mean()](http://docs.scipy.org/doc/numpy/reference/generated/numpy.mean.html)."
   ]
  },
  {
   "cell_type": "code",
   "execution_count": 54,
   "metadata": {},
   "outputs": [
    {
     "name": "stdout",
     "output_type": "stream",
     "text": [
      "[[ 0.03101673  0.24241535 -0.12504548 -0.07720219  0.26791726 -0.03710217\n",
      "   0.09458134 -0.00191249  0.11519531 -0.50986365]\n",
      " [-0.34620199  0.42924378  0.27970817 -0.17279056 -0.18217534  0.10813624\n",
      "   0.21478888 -0.39855431  0.03907839  0.02876674]\n",
      " [-0.26477534  0.10199856  0.12186091  0.49524869  0.1570881  -0.23106321\n",
      "  -0.20514082 -0.36659271 -0.18274476  0.37412058]\n",
      " [-0.20207886 -0.07301649 -0.0804074   0.23061031  0.2198664   0.0454639\n",
      "  -0.12615709  0.02956877 -0.09643387  0.05258433]\n",
      " [-0.40295544  0.0062106   0.40866737 -0.01188004  0.03983924  0.16667378\n",
      "  -0.26859021  0.20341825 -0.47111617  0.32973264]\n",
      " [ 0.02303275  0.04340993 -0.40288648  0.21794088 -0.2341665  -0.33382847\n",
      "   0.34652242  0.23628308  0.13051629 -0.0268239 ]\n",
      " [-0.19210947 -0.40436225  0.47979634 -0.40291961  0.49943344  0.29999034\n",
      "  -0.35691216  0.03653119  0.25649268 -0.21594051]\n",
      " [-0.09184102 -0.19694461  0.46422921  0.112046   -0.16137689 -0.04216842\n",
      "   0.03265582 -0.18630123  0.44637618 -0.37667504]\n",
      " [-0.10149843 -0.07215514 -0.48189345  0.33736038 -0.43575962 -0.13572734\n",
      "   0.31272494  0.38468709  0.29757949 -0.10531792]\n",
      " [ 0.18595837  0.24677764  0.12768904  0.17357257 -0.44742983 -0.43193167\n",
      "   0.42539758  0.29874056 -0.37898003 -0.19979423]]\n",
      "[-1.11022302e-17  4.44089210e-17 -2.22044605e-17 -6.66133815e-17\n",
      " -9.99200722e-17 -3.33066907e-17 -4.44089210e-17 -2.22044605e-17\n",
      "  0.00000000e+00  3.33066907e-17]\n"
     ]
    }
   ],
   "source": [
    "X = np.random.random((10, 10))\n",
    "\n",
    "## your code\n",
    "res = X - (np.mean(X, axis = 1) ).reshape( (X.shape)[0], 1)\n",
    "\n",
    "print(res)\n",
    "print(np.mean(res, axis = 1))"
   ]
  },
  {
   "cell_type": "markdown",
   "metadata": {},
   "source": [
    "**2.9.** Есть массив из 1000 чисел, полученных из генератора случайных чисел, имеющий нормальное распределение. Посчитайте выборочное среднее и выборочную дисперсию. "
   ]
  },
  {
   "cell_type": "code",
   "execution_count": 55,
   "metadata": {},
   "outputs": [
    {
     "name": "stdout",
     "output_type": "stream",
     "text": [
      "5.053585927173205 1.9182218868796803\n"
     ]
    }
   ],
   "source": [
    "X = np.random.normal(loc=5, scale=2., size=1000)\n",
    "\n",
    "## your code\n",
    "mean = np.sum(X)/1000\n",
    "disp = np.sqrt(np.sum( ( X - mean )**2 )/1000)\n",
    "\n",
    "print(mean, disp)"
   ]
  },
  {
   "cell_type": "markdown",
   "metadata": {},
   "source": [
    "**2.10.** Создать матрицу (NB. БЕЗ ЦИКЛОВ И ИЗМЕНЕНИЯ ОТДЕЛЬНЫХ ЭЛЕМЕНТОВ):\n",
    "\n",
    "$$\n",
    "\\begin{pmatrix}\n",
    "0 & 1 & 2 & 3 & 4 \\\\\n",
    "1 & 2 & 3 & 4 & 0 \\\\\n",
    "2 & 3 & 4 & 0 & 1 \\\\\n",
    "3 & 4 & 0 & 1 & 2 \\\\\n",
    "4 & 0 & 1 & 2 & 3\n",
    "\\end{pmatrix}\n",
    "$$"
   ]
  },
  {
   "cell_type": "code",
   "execution_count": 56,
   "metadata": {},
   "outputs": [
    {
     "name": "stdout",
     "output_type": "stream",
     "text": [
      "[[0 1 2 3 4]\n",
      " [1 2 3 4 0]\n",
      " [2 3 4 0 1]\n",
      " [3 4 0 1 2]\n",
      " [4 0 1 2 3]]\n"
     ]
    }
   ],
   "source": [
    "## your code\n",
    "\n",
    "# Вектор [0, 1, 2, 3, 4]\n",
    "a = (np.arange(0, 5)).reshape(1, 5)\n",
    "\n",
    "# Получаем матрицу путём сложения двух векторов\n",
    "res = a + a.reshape(5, -1)\n",
    "\n",
    "# Берём остаток от деления на 5\n",
    "res = res % 5\n",
    "\n",
    "print(res)"
   ]
  },
  {
   "cell_type": "markdown",
   "metadata": {},
   "source": [
    "**2.11.** Есть следующий алгоритм семплинирования, на вход функции подается вектор из целых положительных чисел и число семплов."
   ]
  },
  {
   "cell_type": "markdown",
   "metadata": {},
   "source": [
    "Реализуйте данный алгоритм более оптимальным способом, без использования циклов."
   ]
  },
  {
   "cell_type": "code",
   "execution_count": 57,
   "metadata": {},
   "outputs": [
    {
     "data": {
      "text/plain": [
       "[0, 1, 4, 4, 0]"
      ]
     },
     "execution_count": 57,
     "metadata": {},
     "output_type": "execute_result"
    }
   ],
   "source": [
    "def sample(x, c):\n",
    "    assert len(x) > 0\n",
    "    \n",
    "    s = np.sum(x)\n",
    "    res = []\n",
    "    for _ in range(c):\n",
    "        val = s * np.random.random()\n",
    "        cur, idx = 0, 0        \n",
    "        while cur + x[idx] <= val:\n",
    "            cur += x[idx]\n",
    "            idx += 1\n",
    "            \n",
    "        res.append(idx)\n",
    "    return res\n",
    "\n",
    "            \n",
    "sample([50, 3, 1, 7, 20], 5)   "
   ]
  },
  {
   "cell_type": "code",
   "execution_count": 58,
   "metadata": {},
   "outputs": [],
   "source": [
    "## your code\n",
    "# Алгоритм:\n",
    "# 1) Суммирует все элементы\n",
    "# 2) c раз совершает:\n",
    "#    a) Умножает сумму на случайный, равномерно распределённый коэффициент из [0, 1)\n",
    "#    б) Вычислляет, сумма скольки первых чисел в массиве меньше умноженной на коэфициент общей суммы\n",
    "\n",
    "# Входные данные\n",
    "x = [50, 3, 1, 7, 20]"
   ]
  },
  {
   "cell_type": "code",
   "execution_count": 61,
   "metadata": {},
   "outputs": [],
   "source": [
    "def my_sample(x, c):\n",
    "    assert len(x) > 0\n",
    "    \n",
    "    #Сумма всех элементов\n",
    "    s = np.sum(x)\n",
    "    \n",
    "    # Получаем значения для сэмплирования\n",
    "    vals = s*np.random.random((c, 1))\n",
    "    print('vals: ', vals.T)\n",
    "    \n",
    "    # Получаем последовательные суммы элементов [1,..., i] для i из [1, len(x)] домножением\n",
    "    # нижнетреугольную матрицу\n",
    "    sums = np.dot(np.tri(len(x)), np.array(x).T )\n",
    "    print('sums: ', sums)\n",
    "    \n",
    "    res = np.argmax( (sums - vals) > 0, axis = 1 )\n",
    "    \n",
    "    print(res)"
   ]
  },
  {
   "cell_type": "code",
   "execution_count": 62,
   "metadata": {},
   "outputs": [
    {
     "name": "stdout",
     "output_type": "stream",
     "text": [
      "vals:  [[55.92176787 68.84446757 39.37446241 32.55134546 46.22100214]]\n",
      "sums:  [50. 53. 54. 61. 81.]\n",
      "[3 4 0 0 0]\n"
     ]
    }
   ],
   "source": [
    "my_sample([50, 3, 1, 7, 20], 5)"
   ]
  }
 ],
 "metadata": {
  "kernelspec": {
   "display_name": "Python 3 (ipykernel)",
   "language": "python",
   "name": "python3"
  },
  "language_info": {
   "codemirror_mode": {
    "name": "ipython",
    "version": 3
   },
   "file_extension": ".py",
   "mimetype": "text/x-python",
   "name": "python",
   "nbconvert_exporter": "python",
   "pygments_lexer": "ipython3",
   "version": "3.9.13"
  },
  "vscode": {
   "interpreter": {
    "hash": "916dbcbb3f70747c44a77c7bcd40155683ae19c65e1c03b4aa3499c5328201f1"
   }
  }
 },
 "nbformat": 4,
 "nbformat_minor": 4
}
